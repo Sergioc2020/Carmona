{
    "cells": [
        {
            "cell_type": "markdown",
            "metadata": {},
            "source": "### Descripci\u00f3n\nAc\u00e1 estamos leyendo el csv de inventarios"
        },
        {
            "cell_type": "code",
            "execution_count": 1,
            "metadata": {},
            "outputs": [
                {
                    "data": {
                        "text/html": "<div>\n<style scoped>\n    .dataframe tbody tr th:only-of-type {\n        vertical-align: middle;\n    }\n\n    .dataframe tbody tr th {\n        vertical-align: top;\n    }\n\n    .dataframe thead th {\n        text-align: right;\n    }\n</style>\n<table border=\"1\" class=\"dataframe\">\n  <thead>\n    <tr style=\"text-align: right;\">\n      <th></th>\n      <th>NroParte</th>\n      <th>DescParte</th>\n      <th>UDM</th>\n      <th>CantInventario</th>\n      <th>PedPendMTO</th>\n      <th>PedPendMTS</th>\n      <th>Almacen</th>\n      <th>DescAlmacen</th>\n      <th>MTOMTS</th>\n      <th>Familia</th>\n      <th>GProducto</th>\n      <th>Subgrupo1</th>\n      <th>NivelInventario</th>\n    </tr>\n  </thead>\n  <tbody>\n    <tr>\n      <th>0</th>\n      <td>2505004000000000</td>\n      <td>Saco CH  80x120 100u R57M   Multicolor (Nueva ...</td>\n      <td>UN</td>\n      <td>2200,00000000</td>\n      <td>0,00000000</td>\n      <td>310600,00000000</td>\n      <td>1301</td>\n      <td>CEDI</td>\n      <td>310600,00000000</td>\n      <td>Telas y Sacos Circ. Fib. Sint.</td>\n      <td>Sacos Circulares Fibra Sint\u00e9t.</td>\n      <td>Saco Tejido</td>\n      <td>0</td>\n    </tr>\n    <tr>\n      <th>1</th>\n      <td>2507143PMCA00100</td>\n      <td>Saco Ch R70 70x105  M1C 250u  blanco/blanco  F...</td>\n      <td>UN</td>\n      <td>0,00000000</td>\n      <td>12000,00000000</td>\n      <td>0,00000000</td>\n      <td>1301</td>\n      <td>CEDI</td>\n      <td>12000,00000000</td>\n      <td>Telas y Sacos Circ. Fib. Sint.</td>\n      <td>Sacos Circulares Fibra Sint\u00e9t.</td>\n      <td>Saco Tejido</td>\n      <td>0</td>\n    </tr>\n    <tr>\n      <th>2</th>\n      <td>2510130PAND00200</td>\n      <td>Saco Sh  R60  60x90   500u  M1C transparente/t...</td>\n      <td>UN</td>\n      <td>0,00000000</td>\n      <td>0,00000000</td>\n      <td>10000,00000000</td>\n      <td>1301</td>\n      <td>CEDI</td>\n      <td>10000,00000000</td>\n      <td>Telas y Sacos Circ. Fib. Sint.</td>\n      <td>Sacos Circulares Fibra Sint\u00e9t.</td>\n      <td>Saco Tejido</td>\n      <td>0</td>\n    </tr>\n    <tr>\n      <th>3</th>\n      <td>2510130PGRE00200</td>\n      <td>Saco Sh  R60  60x90   500u  M1C transparente/t...</td>\n      <td>UN</td>\n      <td>0,00000000</td>\n      <td>0,00000000</td>\n      <td>10000,00000000</td>\n      <td>1301</td>\n      <td>CEDI</td>\n      <td>10000,00000000</td>\n      <td>Telas y Sacos Circ. Fib. Sint.</td>\n      <td>Sacos Circulares Fibra Sint\u00e9t.</td>\n      <td>Saco Tejido</td>\n      <td>0</td>\n    </tr>\n    <tr>\n      <th>4</th>\n      <td>2510191PGRE00100</td>\n      <td>Saco Sh  R60  60x80  M1C 500u transparente/tra...</td>\n      <td>UN</td>\n      <td>0,00000000</td>\n      <td>0,00000000</td>\n      <td>10000,00000000</td>\n      <td>1301</td>\n      <td>CEDI</td>\n      <td>10000,00000000</td>\n      <td>Telas y Sacos Circ. Fib. Sint.</td>\n      <td>Sacos Circulares Fibra Sint\u00e9t.</td>\n      <td>Saco Tejido</td>\n      <td>0</td>\n    </tr>\n  </tbody>\n</table>\n</div>",
                        "text/plain": "           NroParte                                          DescParte UDM  \\\n0  2505004000000000  Saco CH  80x120 100u R57M   Multicolor (Nueva ...  UN   \n1  2507143PMCA00100  Saco Ch R70 70x105  M1C 250u  blanco/blanco  F...  UN   \n2  2510130PAND00200  Saco Sh  R60  60x90   500u  M1C transparente/t...  UN   \n3  2510130PGRE00200  Saco Sh  R60  60x90   500u  M1C transparente/t...  UN   \n4  2510191PGRE00100  Saco Sh  R60  60x80  M1C 500u transparente/tra...  UN   \n\n  CantInventario      PedPendMTO       PedPendMTS  Almacen DescAlmacen  \\\n0  2200,00000000      0,00000000  310600,00000000     1301        CEDI   \n1     0,00000000  12000,00000000       0,00000000     1301        CEDI   \n2     0,00000000      0,00000000   10000,00000000     1301        CEDI   \n3     0,00000000      0,00000000   10000,00000000     1301        CEDI   \n4     0,00000000      0,00000000   10000,00000000     1301        CEDI   \n\n            MTOMTS                         Familia  \\\n0  310600,00000000  Telas y Sacos Circ. Fib. Sint.   \n1   12000,00000000  Telas y Sacos Circ. Fib. Sint.   \n2   10000,00000000  Telas y Sacos Circ. Fib. Sint.   \n3   10000,00000000  Telas y Sacos Circ. Fib. Sint.   \n4   10000,00000000  Telas y Sacos Circ. Fib. Sint.   \n\n                        GProducto    Subgrupo1  NivelInventario  \n0  Sacos Circulares Fibra Sint\u00e9t.  Saco Tejido                0  \n1  Sacos Circulares Fibra Sint\u00e9t.  Saco Tejido                0  \n2  Sacos Circulares Fibra Sint\u00e9t.  Saco Tejido                0  \n3  Sacos Circulares Fibra Sint\u00e9t.  Saco Tejido                0  \n4  Sacos Circulares Fibra Sint\u00e9t.  Saco Tejido                0  "
                    },
                    "execution_count": 1,
                    "metadata": {},
                    "output_type": "execute_result"
                }
            ],
            "source": "# The code was removed by Watson Studio for sharing."
        },
        {
            "cell_type": "code",
            "execution_count": 2,
            "metadata": {},
            "outputs": [
                {
                    "name": "stdout",
                    "output_type": "stream",
                    "text": "2\n"
                }
            ],
            "source": "print(1+1)"
        },
        {
            "cell_type": "code",
            "execution_count": 3,
            "metadata": {},
            "outputs": [
                {
                    "name": "stdout",
                    "output_type": "stream",
                    "text": "Hola mundo\n"
                }
            ],
            "source": "print(\"Hola mundo\")"
        },
        {
            "cell_type": "code",
            "execution_count": null,
            "metadata": {},
            "outputs": [],
            "source": ""
        }
    ],
    "metadata": {
        "kernelspec": {
            "display_name": "Python 3.7",
            "language": "python",
            "name": "python3"
        },
        "language_info": {
            "codemirror_mode": {
                "name": "ipython",
                "version": 3
            },
            "file_extension": ".py",
            "mimetype": "text/x-python",
            "name": "python",
            "nbconvert_exporter": "python",
            "pygments_lexer": "ipython3",
            "version": "3.7.9"
        }
    },
    "nbformat": 4,
    "nbformat_minor": 1
}